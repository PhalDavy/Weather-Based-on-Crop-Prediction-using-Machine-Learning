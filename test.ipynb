{
 "cells": [
  {
   "cell_type": "code",
   "execution_count": 1,
   "metadata": {},
   "outputs": [],
   "source": [
    "import requests"
   ]
  },
  {
   "cell_type": "code",
   "execution_count": 10,
   "metadata": {},
   "outputs": [],
   "source": [
    "api_key = \"0cf12bb436cb1339b908188393f69676\"\n",
    "city_name = 'Punjab'\n"
   ]
  },
  {
   "cell_type": "code",
   "execution_count": 3,
   "metadata": {},
   "outputs": [
    {
     "name": "stdout",
     "output_type": "stream",
     "text": [
      "https://api.openweathermap.org/data/2.5/weather?q=Punjab&appid=0cf12bb436cb1339b908188393f69676\n",
      "Punjab 72.3198 30.8602\n"
     ]
    }
   ],
   "source": [
    "#Let's get the city's coordinates (lat and lon)\n",
    "url = f'https://api.openweathermap.org/data/2.5/weather?q={city_name}&appid={api_key}'\n",
    "print(url)\n",
    "\n",
    "#Let's parse the Json\n",
    "req = requests.get(url)\n",
    "data = req.json()\n",
    "\n",
    "#Let's get the name, the longitude and latitude\n",
    "name = data['name']\n",
    "lon = data['coord']['lon']\n",
    "lat = data['coord']['lat']\n",
    "\n",
    "print(name, lon, lat)"
   ]
  },
  {
   "cell_type": "code",
   "execution_count": 13,
   "metadata": {},
   "outputs": [
    {
     "name": "stdout",
     "output_type": "stream",
     "text": [
      "https://api.openweathermap.org/data/2.5/forecast?lat=30.8602&lon=72.3198&appid=0cf12bb436cb1339b908188393f69676\n",
      "{'cod': '200', 'message': 0, 'cnt': 40, 'list': [{'dt': 1705827600, 'main': {'temp': 295.9, 'feels_like': 294.54, 'temp_min': 295.9, 'temp_max': 295.9, 'pressure': 1017, 'sea_level': 1017, 'grnd_level': 999, 'humidity': 12, 'temp_kf': 0}, 'weather': [{'id': 802, 'main': 'Clouds', 'description': 'scattered clouds', 'icon': '03d'}], 'clouds': {'all': 49}, 'wind': {'speed': 2.43, 'deg': 257, 'gust': 2.46}, 'visibility': 10000, 'pop': 0, 'sys': {'pod': 'd'}, 'dt_txt': '2024-01-21 09:00:00'}, {'dt': 1705838400, 'main': {'temp': 294.87, 'feels_like': 293.44, 'temp_min': 292.81, 'temp_max': 294.87, 'pressure': 1017, 'sea_level': 1017, 'grnd_level': 998, 'humidity': 13, 'temp_kf': 2.06}, 'weather': [{'id': 802, 'main': 'Clouds', 'description': 'scattered clouds', 'icon': '03d'}], 'clouds': {'all': 46}, 'wind': {'speed': 1.27, 'deg': 240, 'gust': 1.35}, 'visibility': 10000, 'pop': 0, 'sys': {'pod': 'd'}, 'dt_txt': '2024-01-21 12:00:00'}, {'dt': 1705849200, 'main': {'temp': 290.26, 'feels_like': 288.5, 'temp_min': 287.44, 'temp_max': 290.26, 'pressure': 1017, 'sea_level': 1017, 'grnd_level': 999, 'humidity': 18, 'temp_kf': 2.82}, 'weather': [{'id': 802, 'main': 'Clouds', 'description': 'scattered clouds', 'icon': '03n'}], 'clouds': {'all': 50}, 'wind': {'speed': 1.39, 'deg': 197, 'gust': 1.42}, 'visibility': 10000, 'pop': 0, 'sys': {'pod': 'n'}, 'dt_txt': '2024-01-21 15:00:00'}, {'dt': 1705860000, 'main': {'temp': 285.73, 'feels_like': 283.64, 'temp_min': 285.73, 'temp_max': 285.73, 'pressure': 1017, 'sea_level': 1017, 'grnd_level': 999, 'humidity': 23, 'temp_kf': 0}, 'weather': [{'id': 802, 'main': 'Clouds', 'description': 'scattered clouds', 'icon': '03n'}], 'clouds': {'all': 39}, 'wind': {'speed': 2.2, 'deg': 193, 'gust': 2.23}, 'visibility': 10000, 'pop': 0, 'sys': {'pod': 'n'}, 'dt_txt': '2024-01-21 18:00:00'}, {'dt': 1705870800, 'main': {'temp': 284.34, 'feels_like': 282.25, 'temp_min': 284.34, 'temp_max': 284.34, 'pressure': 1017, 'sea_level': 1017, 'grnd_level': 999, 'humidity': 28, 'temp_kf': 0}, 'weather': [{'id': 802, 'main': 'Clouds', 'description': 'scattered clouds', 'icon': '03n'}], 'clouds': {'all': 31}, 'wind': {'speed': 1.42, 'deg': 152, 'gust': 1.45}, 'visibility': 10000, 'pop': 0, 'sys': {'pod': 'n'}, 'dt_txt': '2024-01-21 21:00:00'}, {'dt': 1705881600, 'main': {'temp': 283.44, 'feels_like': 281.31, 'temp_min': 283.44, 'temp_max': 283.44, 'pressure': 1016, 'sea_level': 1016, 'grnd_level': 998, 'humidity': 30, 'temp_kf': 0}, 'weather': [{'id': 801, 'main': 'Clouds', 'description': 'few clouds', 'icon': '02n'}], 'clouds': {'all': 17}, 'wind': {'speed': 1.66, 'deg': 128, 'gust': 1.69}, 'visibility': 10000, 'pop': 0, 'sys': {'pod': 'n'}, 'dt_txt': '2024-01-22 00:00:00'}, {'dt': 1705892400, 'main': {'temp': 284.27, 'feels_like': 282.19, 'temp_min': 284.27, 'temp_max': 284.27, 'pressure': 1017, 'sea_level': 1017, 'grnd_level': 999, 'humidity': 29, 'temp_kf': 0}, 'weather': [{'id': 800, 'main': 'Clear', 'description': 'clear sky', 'icon': '01d'}], 'clouds': {'all': 0}, 'wind': {'speed': 1.8, 'deg': 128, 'gust': 1.78}, 'visibility': 10000, 'pop': 0, 'sys': {'pod': 'd'}, 'dt_txt': '2024-01-22 03:00:00'}, {'dt': 1705903200, 'main': {'temp': 293.66, 'feels_like': 292.18, 'temp_min': 293.66, 'temp_max': 293.66, 'pressure': 1018, 'sea_level': 1018, 'grnd_level': 1000, 'humidity': 16, 'temp_kf': 0}, 'weather': [{'id': 800, 'main': 'Clear', 'description': 'clear sky', 'icon': '01d'}], 'clouds': {'all': 0}, 'wind': {'speed': 2.6, 'deg': 167, 'gust': 3.05}, 'visibility': 10000, 'pop': 0, 'sys': {'pod': 'd'}, 'dt_txt': '2024-01-22 06:00:00'}, {'dt': 1705914000, 'main': {'temp': 297.2, 'feels_like': 296.03, 'temp_min': 297.2, 'temp_max': 297.2, 'pressure': 1015, 'sea_level': 1015, 'grnd_level': 998, 'humidity': 14, 'temp_kf': 0}, 'weather': [{'id': 800, 'main': 'Clear', 'description': 'clear sky', 'icon': '01d'}], 'clouds': {'all': 0}, 'wind': {'speed': 2.9, 'deg': 189, 'gust': 3.76}, 'visibility': 10000, 'pop': 0, 'sys': {'pod': 'd'}, 'dt_txt': '2024-01-22 09:00:00'}, {'dt': 1705924800, 'main': {'temp': 294.08, 'feels_like': 292.7, 'temp_min': 294.08, 'temp_max': 294.08, 'pressure': 1015, 'sea_level': 1015, 'grnd_level': 997, 'humidity': 18, 'temp_kf': 0}, 'weather': [{'id': 800, 'main': 'Clear', 'description': 'clear sky', 'icon': '01d'}], 'clouds': {'all': 0}, 'wind': {'speed': 1.04, 'deg': 206, 'gust': 1.14}, 'visibility': 10000, 'pop': 0, 'sys': {'pod': 'd'}, 'dt_txt': '2024-01-22 12:00:00'}, {'dt': 1705935600, 'main': {'temp': 288.42, 'feels_like': 286.68, 'temp_min': 288.42, 'temp_max': 288.42, 'pressure': 1016, 'sea_level': 1016, 'grnd_level': 998, 'humidity': 26, 'temp_kf': 0}, 'weather': [{'id': 800, 'main': 'Clear', 'description': 'clear sky', 'icon': '01n'}], 'clouds': {'all': 0}, 'wind': {'speed': 0.66, 'deg': 15, 'gust': 1.36}, 'visibility': 10000, 'pop': 0, 'sys': {'pod': 'n'}, 'dt_txt': '2024-01-22 15:00:00'}, {'dt': 1705946400, 'main': {'temp': 286.38, 'feels_like': 284.54, 'temp_min': 286.38, 'temp_max': 286.38, 'pressure': 1017, 'sea_level': 1017, 'grnd_level': 999, 'humidity': 30, 'temp_kf': 0}, 'weather': [{'id': 800, 'main': 'Clear', 'description': 'clear sky', 'icon': '01n'}], 'clouds': {'all': 0}, 'wind': {'speed': 1.2, 'deg': 81, 'gust': 1.53}, 'visibility': 10000, 'pop': 0, 'sys': {'pod': 'n'}, 'dt_txt': '2024-01-22 18:00:00'}, {'dt': 1705957200, 'main': {'temp': 284.77, 'feels_like': 282.85, 'temp_min': 284.77, 'temp_max': 284.77, 'pressure': 1017, 'sea_level': 1017, 'grnd_level': 999, 'humidity': 33, 'temp_kf': 0}, 'weather': [{'id': 800, 'main': 'Clear', 'description': 'clear sky', 'icon': '01n'}], 'clouds': {'all': 0}, 'wind': {'speed': 1.53, 'deg': 64, 'gust': 1.61}, 'visibility': 10000, 'pop': 0, 'sys': {'pod': 'n'}, 'dt_txt': '2024-01-22 21:00:00'}, {'dt': 1705968000, 'main': {'temp': 283.35, 'feels_like': 281.37, 'temp_min': 283.35, 'temp_max': 283.35, 'pressure': 1017, 'sea_level': 1017, 'grnd_level': 999, 'humidity': 36, 'temp_kf': 0}, 'weather': [{'id': 800, 'main': 'Clear', 'description': 'clear sky', 'icon': '01n'}], 'clouds': {'all': 0}, 'wind': {'speed': 1.97, 'deg': 60, 'gust': 1.99}, 'visibility': 10000, 'pop': 0, 'sys': {'pod': 'n'}, 'dt_txt': '2024-01-23 00:00:00'}, {'dt': 1705978800, 'main': {'temp': 284.04, 'feels_like': 282.07, 'temp_min': 284.04, 'temp_max': 284.04, 'pressure': 1018, 'sea_level': 1018, 'grnd_level': 1000, 'humidity': 34, 'temp_kf': 0}, 'weather': [{'id': 800, 'main': 'Clear', 'description': 'clear sky', 'icon': '01d'}], 'clouds': {'all': 0}, 'wind': {'speed': 1.5, 'deg': 79, 'gust': 1.56}, 'visibility': 10000, 'pop': 0, 'sys': {'pod': 'd'}, 'dt_txt': '2024-01-23 03:00:00'}, {'dt': 1705989600, 'main': {'temp': 293.38, 'feels_like': 291.95, 'temp_min': 293.38, 'temp_max': 293.38, 'pressure': 1018, 'sea_level': 1018, 'grnd_level': 1000, 'humidity': 19, 'temp_kf': 0}, 'weather': [{'id': 800, 'main': 'Clear', 'description': 'clear sky', 'icon': '01d'}], 'clouds': {'all': 0}, 'wind': {'speed': 1.06, 'deg': 350, 'gust': 0.93}, 'visibility': 10000, 'pop': 0, 'sys': {'pod': 'd'}, 'dt_txt': '2024-01-23 06:00:00'}, {'dt': 1706000400, 'main': {'temp': 296.86, 'feels_like': 295.68, 'temp_min': 296.86, 'temp_max': 296.86, 'pressure': 1014, 'sea_level': 1014, 'grnd_level': 997, 'humidity': 15, 'temp_kf': 0}, 'weather': [{'id': 800, 'main': 'Clear', 'description': 'clear sky', 'icon': '01d'}], 'clouds': {'all': 0}, 'wind': {'speed': 1.72, 'deg': 334, 'gust': 1.63}, 'visibility': 10000, 'pop': 0, 'sys': {'pod': 'd'}, 'dt_txt': '2024-01-23 09:00:00'}, {'dt': 1706011200, 'main': {'temp': 293.8, 'feels_like': 292.36, 'temp_min': 293.8, 'temp_max': 293.8, 'pressure': 1014, 'sea_level': 1014, 'grnd_level': 996, 'humidity': 17, 'temp_kf': 0}, 'weather': [{'id': 800, 'main': 'Clear', 'description': 'clear sky', 'icon': '01d'}], 'clouds': {'all': 0}, 'wind': {'speed': 1.91, 'deg': 332, 'gust': 1.99}, 'visibility': 10000, 'pop': 0, 'sys': {'pod': 'd'}, 'dt_txt': '2024-01-23 12:00:00'}, {'dt': 1706022000, 'main': {'temp': 287.83, 'feels_like': 285.98, 'temp_min': 287.83, 'temp_max': 287.83, 'pressure': 1015, 'sea_level': 1015, 'grnd_level': 997, 'humidity': 24, 'temp_kf': 0}, 'weather': [{'id': 800, 'main': 'Clear', 'description': 'clear sky', 'icon': '01n'}], 'clouds': {'all': 0}, 'wind': {'speed': 2.24, 'deg': 335, 'gust': 2.27}, 'visibility': 10000, 'pop': 0, 'sys': {'pod': 'n'}, 'dt_txt': '2024-01-23 15:00:00'}, {'dt': 1706032800, 'main': {'temp': 286.21, 'feels_like': 284.28, 'temp_min': 286.21, 'temp_max': 286.21, 'pressure': 1016, 'sea_level': 1016, 'grnd_level': 998, 'humidity': 27, 'temp_kf': 0}, 'weather': [{'id': 800, 'main': 'Clear', 'description': 'clear sky', 'icon': '01n'}], 'clouds': {'all': 0}, 'wind': {'speed': 1.72, 'deg': 25, 'gust': 1.75}, 'visibility': 10000, 'pop': 0, 'sys': {'pod': 'n'}, 'dt_txt': '2024-01-23 18:00:00'}, {'dt': 1706043600, 'main': {'temp': 284.85, 'feels_like': 282.83, 'temp_min': 284.85, 'temp_max': 284.85, 'pressure': 1015, 'sea_level': 1015, 'grnd_level': 997, 'humidity': 29, 'temp_kf': 0}, 'weather': [{'id': 800, 'main': 'Clear', 'description': 'clear sky', 'icon': '01n'}], 'clouds': {'all': 0}, 'wind': {'speed': 2.28, 'deg': 46, 'gust': 2.22}, 'visibility': 10000, 'pop': 0, 'sys': {'pod': 'n'}, 'dt_txt': '2024-01-23 21:00:00'}, {'dt': 1706054400, 'main': {'temp': 283.22, 'feels_like': 281.14, 'temp_min': 283.22, 'temp_max': 283.22, 'pressure': 1016, 'sea_level': 1016, 'grnd_level': 998, 'humidity': 33, 'temp_kf': 0}, 'weather': [{'id': 800, 'main': 'Clear', 'description': 'clear sky', 'icon': '01n'}], 'clouds': {'all': 0}, 'wind': {'speed': 1.54, 'deg': 38, 'gust': 1.53}, 'visibility': 10000, 'pop': 0, 'sys': {'pod': 'n'}, 'dt_txt': '2024-01-24 00:00:00'}, {'dt': 1706065200, 'main': {'temp': 284.28, 'feels_like': 282.26, 'temp_min': 284.28, 'temp_max': 284.28, 'pressure': 1017, 'sea_level': 1017, 'grnd_level': 999, 'humidity': 31, 'temp_kf': 0}, 'weather': [{'id': 800, 'main': 'Clear', 'description': 'clear sky', 'icon': '01d'}], 'clouds': {'all': 0}, 'wind': {'speed': 1.97, 'deg': 55, 'gust': 1.99}, 'visibility': 10000, 'pop': 0, 'sys': {'pod': 'd'}, 'dt_txt': '2024-01-24 03:00:00'}, {'dt': 1706076000, 'main': {'temp': 293.94, 'feels_like': 292.52, 'temp_min': 293.94, 'temp_max': 293.94, 'pressure': 1017, 'sea_level': 1017, 'grnd_level': 1000, 'humidity': 17, 'temp_kf': 0}, 'weather': [{'id': 800, 'main': 'Clear', 'description': 'clear sky', 'icon': '01d'}], 'clouds': {'all': 0}, 'wind': {'speed': 1.94, 'deg': 73, 'gust': 1.77}, 'visibility': 10000, 'pop': 0, 'sys': {'pod': 'd'}, 'dt_txt': '2024-01-24 06:00:00'}, {'dt': 1706086800, 'main': {'temp': 297.5, 'feels_like': 296.28, 'temp_min': 297.5, 'temp_max': 297.5, 'pressure': 1015, 'sea_level': 1015, 'grnd_level': 998, 'humidity': 11, 'temp_kf': 0}, 'weather': [{'id': 800, 'main': 'Clear', 'description': 'clear sky', 'icon': '01d'}], 'clouds': {'all': 0}, 'wind': {'speed': 0.98, 'deg': 14, 'gust': 0.92}, 'visibility': 10000, 'pop': 0, 'sys': {'pod': 'd'}, 'dt_txt': '2024-01-24 09:00:00'}, {'dt': 1706097600, 'main': {'temp': 293.85, 'feels_like': 292.32, 'temp_min': 293.85, 'temp_max': 293.85, 'pressure': 1014, 'sea_level': 1014, 'grnd_level': 997, 'humidity': 13, 'temp_kf': 0}, 'weather': [{'id': 800, 'main': 'Clear', 'description': 'clear sky', 'icon': '01d'}], 'clouds': {'all': 2}, 'wind': {'speed': 1.3, 'deg': 33, 'gust': 1.37}, 'visibility': 10000, 'pop': 0, 'sys': {'pod': 'd'}, 'dt_txt': '2024-01-24 12:00:00'}, {'dt': 1706108400, 'main': {'temp': 288.26, 'feels_like': 286.32, 'temp_min': 288.26, 'temp_max': 288.26, 'pressure': 1016, 'sea_level': 1016, 'grnd_level': 999, 'humidity': 19, 'temp_kf': 0}, 'weather': [{'id': 802, 'main': 'Clouds', 'description': 'scattered clouds', 'icon': '03n'}], 'clouds': {'all': 37}, 'wind': {'speed': 1.24, 'deg': 38, 'gust': 1.46}, 'visibility': 10000, 'pop': 0, 'sys': {'pod': 'n'}, 'dt_txt': '2024-01-24 15:00:00'}, {'dt': 1706119200, 'main': {'temp': 286.63, 'feels_like': 284.58, 'temp_min': 286.63, 'temp_max': 286.63, 'pressure': 1017, 'sea_level': 1017, 'grnd_level': 999, 'humidity': 21, 'temp_kf': 0}, 'weather': [{'id': 802, 'main': 'Clouds', 'description': 'scattered clouds', 'icon': '03n'}], 'clouds': {'all': 39}, 'wind': {'speed': 1.77, 'deg': 54, 'gust': 1.78}, 'visibility': 10000, 'pop': 0, 'sys': {'pod': 'n'}, 'dt_txt': '2024-01-24 18:00:00'}, {'dt': 1706130000, 'main': {'temp': 285.69, 'feels_like': 283.6, 'temp_min': 285.69, 'temp_max': 285.69, 'pressure': 1017, 'sea_level': 1017, 'grnd_level': 999, 'humidity': 23, 'temp_kf': 0}, 'weather': [{'id': 804, 'main': 'Clouds', 'description': 'overcast clouds', 'icon': '04n'}], 'clouds': {'all': 100}, 'wind': {'speed': 2.5, 'deg': 72, 'gust': 2.54}, 'visibility': 10000, 'pop': 0, 'sys': {'pod': 'n'}, 'dt_txt': '2024-01-24 21:00:00'}, {'dt': 1706140800, 'main': {'temp': 284.28, 'feels_like': 282.13, 'temp_min': 284.28, 'temp_max': 284.28, 'pressure': 1017, 'sea_level': 1017, 'grnd_level': 999, 'humidity': 26, 'temp_kf': 0}, 'weather': [{'id': 804, 'main': 'Clouds', 'description': 'overcast clouds', 'icon': '04n'}], 'clouds': {'all': 88}, 'wind': {'speed': 2.76, 'deg': 80, 'gust': 2.73}, 'visibility': 10000, 'pop': 0, 'sys': {'pod': 'n'}, 'dt_txt': '2024-01-25 00:00:00'}, {'dt': 1706151600, 'main': {'temp': 284.6, 'feels_like': 282.48, 'temp_min': 284.6, 'temp_max': 284.6, 'pressure': 1019, 'sea_level': 1019, 'grnd_level': 1001, 'humidity': 26, 'temp_kf': 0}, 'weather': [{'id': 801, 'main': 'Clouds', 'description': 'few clouds', 'icon': '02d'}], 'clouds': {'all': 17}, 'wind': {'speed': 2.62, 'deg': 90, 'gust': 3.26}, 'visibility': 10000, 'pop': 0, 'sys': {'pod': 'd'}, 'dt_txt': '2024-01-25 03:00:00'}, {'dt': 1706162400, 'main': {'temp': 293.93, 'feels_like': 292.43, 'temp_min': 293.93, 'temp_max': 293.93, 'pressure': 1020, 'sea_level': 1020, 'grnd_level': 1002, 'humidity': 14, 'temp_kf': 0}, 'weather': [{'id': 802, 'main': 'Clouds', 'description': 'scattered clouds', 'icon': '03d'}], 'clouds': {'all': 25}, 'wind': {'speed': 2.31, 'deg': 118, 'gust': 2.6}, 'visibility': 10000, 'pop': 0, 'sys': {'pod': 'd'}, 'dt_txt': '2024-01-25 06:00:00'}, {'dt': 1706173200, 'main': {'temp': 297.43, 'feels_like': 296.2, 'temp_min': 297.43, 'temp_max': 297.43, 'pressure': 1016, 'sea_level': 1016, 'grnd_level': 999, 'humidity': 11, 'temp_kf': 0}, 'weather': [{'id': 804, 'main': 'Clouds', 'description': 'overcast clouds', 'icon': '04d'}], 'clouds': {'all': 93}, 'wind': {'speed': 1.47, 'deg': 79, 'gust': 1.26}, 'visibility': 10000, 'pop': 0, 'sys': {'pod': 'd'}, 'dt_txt': '2024-01-25 09:00:00'}, {'dt': 1706184000, 'main': {'temp': 294.16, 'feels_like': 292.66, 'temp_min': 294.16, 'temp_max': 294.16, 'pressure': 1016, 'sea_level': 1016, 'grnd_level': 998, 'humidity': 13, 'temp_kf': 0}, 'weather': [{'id': 803, 'main': 'Clouds', 'description': 'broken clouds', 'icon': '04d'}], 'clouds': {'all': 79}, 'wind': {'speed': 1.57, 'deg': 32, 'gust': 1.62}, 'visibility': 10000, 'pop': 0, 'sys': {'pod': 'd'}, 'dt_txt': '2024-01-25 12:00:00'}, {'dt': 1706194800, 'main': {'temp': 289.22, 'feels_like': 287.35, 'temp_min': 289.22, 'temp_max': 289.22, 'pressure': 1018, 'sea_level': 1018, 'grnd_level': 1000, 'humidity': 18, 'temp_kf': 0}, 'weather': [{'id': 804, 'main': 'Clouds', 'description': 'overcast clouds', 'icon': '04n'}], 'clouds': {'all': 95}, 'wind': {'speed': 2.59, 'deg': 20, 'gust': 2.71}, 'visibility': 10000, 'pop': 0, 'sys': {'pod': 'n'}, 'dt_txt': '2024-01-25 15:00:00'}, {'dt': 1706205600, 'main': {'temp': 286.84, 'feels_like': 284.81, 'temp_min': 286.84, 'temp_max': 286.84, 'pressure': 1019, 'sea_level': 1019, 'grnd_level': 1001, 'humidity': 21, 'temp_kf': 0}, 'weather': [{'id': 804, 'main': 'Clouds', 'description': 'overcast clouds', 'icon': '04n'}], 'clouds': {'all': 89}, 'wind': {'speed': 2.25, 'deg': 42, 'gust': 2.31}, 'visibility': 10000, 'pop': 0, 'sys': {'pod': 'n'}, 'dt_txt': '2024-01-25 18:00:00'}, {'dt': 1706216400, 'main': {'temp': 285.96, 'feels_like': 283.84, 'temp_min': 285.96, 'temp_max': 285.96, 'pressure': 1019, 'sea_level': 1019, 'grnd_level': 1001, 'humidity': 21, 'temp_kf': 0}, 'weather': [{'id': 804, 'main': 'Clouds', 'description': 'overcast clouds', 'icon': '04n'}], 'clouds': {'all': 89}, 'wind': {'speed': 2.48, 'deg': 42, 'gust': 2.49}, 'visibility': 10000, 'pop': 0, 'sys': {'pod': 'n'}, 'dt_txt': '2024-01-25 21:00:00'}, {'dt': 1706227200, 'main': {'temp': 285.1, 'feels_like': 282.95, 'temp_min': 285.1, 'temp_max': 285.1, 'pressure': 1018, 'sea_level': 1018, 'grnd_level': 1000, 'humidity': 23, 'temp_kf': 0}, 'weather': [{'id': 804, 'main': 'Clouds', 'description': 'overcast clouds', 'icon': '04n'}], 'clouds': {'all': 95}, 'wind': {'speed': 2.29, 'deg': 47, 'gust': 2.3}, 'visibility': 10000, 'pop': 0, 'sys': {'pod': 'n'}, 'dt_txt': '2024-01-26 00:00:00'}, {'dt': 1706238000, 'main': {'temp': 286.14, 'feels_like': 284.07, 'temp_min': 286.14, 'temp_max': 286.14, 'pressure': 1020, 'sea_level': 1020, 'grnd_level': 1002, 'humidity': 22, 'temp_kf': 0}, 'weather': [{'id': 804, 'main': 'Clouds', 'description': 'overcast clouds', 'icon': '04d'}], 'clouds': {'all': 100}, 'wind': {'speed': 1.89, 'deg': 78, 'gust': 2.11}, 'visibility': 10000, 'pop': 0, 'sys': {'pod': 'd'}, 'dt_txt': '2024-01-26 03:00:00'}, {'dt': 1706248800, 'main': {'temp': 293.54, 'feels_like': 292, 'temp_min': 293.54, 'temp_max': 293.54, 'pressure': 1021, 'sea_level': 1021, 'grnd_level': 1004, 'humidity': 14, 'temp_kf': 0}, 'weather': [{'id': 804, 'main': 'Clouds', 'description': 'overcast clouds', 'icon': '04d'}], 'clouds': {'all': 100}, 'wind': {'speed': 0.71, 'deg': 71, 'gust': 0.91}, 'visibility': 10000, 'pop': 0, 'sys': {'pod': 'd'}, 'dt_txt': '2024-01-26 06:00:00'}], 'city': {'id': 1167710, 'name': 'Punjab', 'coord': {'lat': 30.8602, 'lon': 72.3198}, 'country': 'PK', 'population': 85579866, 'timezone': 18000, 'sunrise': 1705802869, 'sunset': 1705840522}}\n"
     ]
    }
   ],
   "source": [
    "cnt=7\n",
    "\n",
    "url2 = f'https://api.openweathermap.org/data/2.5/forecast?lat={lat}&lon={lon}&appid={api_key}'\n",
    "print(url2)\n",
    "#Let's now parse the JSON\n",
    "req2 = requests.get(url2)\n",
    "data2 = req2.json()\n",
    "print(data2)\n",
    "\n",
    "# #Let's now get the temp for the day, the night and the weather conditions\n",
    "# days = []\n",
    "# nights = []\n",
    "# descr = []\n",
    "\n",
    "# #We need to access 'daily'\n",
    "# for i in data2['daily']:\n",
    "        \n",
    "#         #We notice that the temperature is in Kelvin, so we need to do -273.15 for every datapoint\n",
    "        \n",
    "#         #Let's start by days\n",
    "#         #Let's round the decimal numbers to 2\n",
    "#         days.append(round(i['temp']['day'] - 273.15,2))\n",
    "        \n",
    "#         #Nights\n",
    "#         nights.append(round(i['temp']['night'] - 273.15,2))\n",
    "        \n",
    "#         #Let's now get the weather condition and the description\n",
    "#         #'weather' [0] 'main' + 'weather' [0] 'description'\n",
    "#         descr.append(i['weather'][0]['main'] + \": \" +i['weather'][0]['description'])\n",
    "\n",
    "# print(days)\n",
    "# print(nights)\n",
    "# print(descr)"
   ]
  }
 ],
 "metadata": {
  "kernelspec": {
   "display_name": "Crop2",
   "language": "python",
   "name": "python3"
  },
  "language_info": {
   "codemirror_mode": {
    "name": "ipython",
    "version": 3
   },
   "file_extension": ".py",
   "mimetype": "text/x-python",
   "name": "python",
   "nbconvert_exporter": "python",
   "pygments_lexer": "ipython3",
   "version": "3.9.18"
  }
 },
 "nbformat": 4,
 "nbformat_minor": 2
}
